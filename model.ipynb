{
 "cells": [
  {
   "cell_type": "markdown",
   "metadata": {},
   "source": [
    "### Notebook for training used on the provided dataset\n",
    "\n",
    "\n",
    "Using the NVIDIA architecture\n",
    "This is mainly used for looking at the potential preprocessing steps, model architecture etc."
   ]
  },
  {
   "cell_type": "code",
   "execution_count": 124,
   "metadata": {},
   "outputs": [],
   "source": [
    "import csv\n",
    "import os\n",
    "import numpy as np\n",
    "import pandas as pd\n",
    "import keras\n",
    "import matplotlib.pyplot as plt\n",
    "from scipy import ndimage\n",
    "from keras.models import Sequential\n",
    "from keras.layers import Dense, Dropout, Flatten, Lambda, Cropping2D\n",
    "from keras.layers import Conv2D, MaxPooling2D\n",
    "from keras import backend as K\n",
    "import tensorflow as tf\n",
    "from sklearn.utils import shuffle\n",
    "import sklearn\n",
    "import cv2"
   ]
  },
  {
   "cell_type": "code",
   "execution_count": 125,
   "metadata": {},
   "outputs": [],
   "source": [
    "path_label = \"data/driving_log.csv\"\n",
    "path_img = \"data/IMG\""
   ]
  },
  {
   "cell_type": "code",
   "execution_count": 126,
   "metadata": {},
   "outputs": [],
   "source": [
    "def get_labels(path_label=\"data/driving_log.csv\"):\n",
    "    df = pd.read_csv(path_label)\n",
    "    labels = df[\"steering\"].values\n",
    "    print(\"Got labels\")\n",
    "    return labels"
   ]
  },
  {
   "cell_type": "code",
   "execution_count": 127,
   "metadata": {},
   "outputs": [],
   "source": [
    "def get_images(path_img=\"data/IMG\"):\n",
    "    images = []\n",
    "    fnames = os.listdir(path_img)\n",
    "    for fname in fnames:\n",
    "        # only use CENTER images first\n",
    "        if fname.startswith(\"center\"):\n",
    "            img = plt.imread(os.path.join(path_img, fname))\n",
    "            images.append(img)\n",
    "    images = np.array(images)\n",
    "    print(\"Got images\")\n",
    "    return images"
   ]
  },
  {
   "cell_type": "code",
   "execution_count": 128,
   "metadata": {},
   "outputs": [],
   "source": [
    "def build_model():\n",
    "    model = Sequential()\n",
    "    model.add(Lambda(lambda x: (x / 255.0) - 0.5, input_shape=(160,320,3)))  # normalize\n",
    "    # add cropping\n",
    "    model.add(Cropping2D(cropping=((70, 25), (0, 0))))\n",
    "    model.add(Conv2D(24,(5,5), strides=(2,2), activation=\"relu\"))\n",
    "    model.add(Conv2D(36, (5,5), strides=(2,2), activation=\"relu\"))\n",
    "    model.add(Conv2D(48, (5,5), strides=(2,2), activation=\"relu\"))\n",
    "    model.add(Conv2D(64, (3,3), strides=(1,1), activation=\"relu\"))\n",
    "    model.add(Conv2D(64, (3,3), strides=(1,1), activation=\"relu\"))\n",
    "    model.add(Flatten())\n",
    "    model.add(Dense(1164))\n",
    "    model.add(Dense(100))\n",
    "    model.add(Dense(50))\n",
    "    model.add(Dense(10))\n",
    "    model.add(Dense(1))\n",
    "    return model"
   ]
  },
  {
   "cell_type": "code",
   "execution_count": 143,
   "metadata": {},
   "outputs": [
    {
     "name": "stdout",
     "output_type": "stream",
     "text": [
      "Got labels\n"
     ]
    }
   ],
   "source": [
    "# labels = get_labels()"
   ]
  },
  {
   "cell_type": "code",
   "execution_count": 161,
   "metadata": {},
   "outputs": [],
   "source": [
    "samples = []\n",
    "with open('data/driving_log.csv') as csvfile:\n",
    "    reader = csv.reader(csvfile)\n",
    "    for line in reader:\n",
    "        samples.append(line)\n",
    "samples = samples[1:]\n",
    "        \n",
    "from sklearn.model_selection import train_test_split\n",
    "train_samples, validation_samples = train_test_split(samples, test_size=0.2)\n",
    "\n",
    "def flip_image(image, angle):\n",
    "    image_flipped = np.fliplr(image)\n",
    "    angle_flipped = -angle\n",
    "    return image_flipped, angle_flipped\n",
    "\n",
    "\n",
    "def generator(samples, batch_size=32, flip_images=True):\n",
    "    num_samples = len(samples)\n",
    "    while 1: # Loop forever so the generator never terminates\n",
    "        shuffle(samples)\n",
    "        for offset in range(0, num_samples, batch_size):\n",
    "            batch_samples = samples[offset:offset+batch_size]\n",
    "\n",
    "            images = []\n",
    "            angles = []\n",
    "            for batch_sample in batch_samples:\n",
    "                name = 'data/IMG/'+batch_sample[0].split('/')[-1]\n",
    "                center_image = plt.imread(name)\n",
    "                center_angle = float(batch_sample[3])\n",
    "                images.append(center_image)\n",
    "                angles.append(center_angle)\n",
    "                \n",
    "                # add image augmentation by flipping *each* image\n",
    "                if flip_images:\n",
    "                    if center_angle!=0: # no need to flip image if steering wheel angle is 0!\n",
    "                        image_flipped, angle_flipped = flip_image(center_image, center_angle)\n",
    "                        images.append(image_flipped)\n",
    "                        angles.append(angle_flipped)\n",
    "\n",
    "            # trim image to only see section with road\n",
    "            X_train = np.array(images)\n",
    "            y_train = np.array(angles)\n",
    "            yield sklearn.utils.shuffle(X_train, y_train)"
   ]
  },
  {
   "cell_type": "code",
   "execution_count": 162,
   "metadata": {},
   "outputs": [],
   "source": [
    "# Set our batch size\n",
    "batch_size=128\n",
    "\n",
    "# compile and train the model using the generator function\n",
    "train_generator = generator(train_samples, batch_size=batch_size)\n",
    "validation_generator = generator(validation_samples, batch_size=batch_size)"
   ]
  },
  {
   "cell_type": "code",
   "execution_count": 136,
   "metadata": {},
   "outputs": [],
   "source": [
    "#y_train = get_labels()\n",
    "#X_train = get_images()"
   ]
  },
  {
   "cell_type": "code",
   "execution_count": 163,
   "metadata": {},
   "outputs": [],
   "source": [
    "model = build_model()"
   ]
  },
  {
   "cell_type": "code",
   "execution_count": 164,
   "metadata": {},
   "outputs": [],
   "source": [
    "model.compile(loss=keras.losses.mse,\n",
    "              optimizer=keras.optimizers.Adam())"
   ]
  },
  {
   "cell_type": "code",
   "execution_count": null,
   "metadata": {},
   "outputs": [
    {
     "name": "stdout",
     "output_type": "stream",
     "text": [
      "Epoch 1/5\n",
      "51/51 [==============================] - 33s 643ms/step - loss: 0.0178 - val_loss: 0.0120\n",
      "Epoch 2/5\n",
      "51/51 [==============================] - 27s 531ms/step - loss: 0.0121 - val_loss: 0.0114\n",
      "Epoch 3/5\n",
      "22/51 [===========>..................] - ETA: 13s - loss: 0.0109"
     ]
    }
   ],
   "source": [
    "# model.fit(X_train, y_train, validation_split=0.2, batch_size=128, epochs=5, shuffle=True)\n",
    "model.fit_generator(train_generator, steps_per_epoch=np.ceil(len(train_samples)/batch_size), \\\n",
    "            validation_data=validation_generator, validation_steps=np.ceil(len(validation_samples)/batch_size), \\\n",
    "            epochs=5, verbose=1)"
   ]
  },
  {
   "cell_type": "code",
   "execution_count": 106,
   "metadata": {},
   "outputs": [
    {
     "name": "stdout",
     "output_type": "stream",
     "text": [
      "model saved\n"
     ]
    }
   ],
   "source": [
    "# model.save(\"model.h5\")\n",
    "model.save(\"model.h5\")\n",
    "print(\"model saved\")"
   ]
  },
  {
   "cell_type": "code",
   "execution_count": 12,
   "metadata": {},
   "outputs": [],
   "source": [
    "K.clear_session()"
   ]
  },
  {
   "cell_type": "code",
   "execution_count": null,
   "metadata": {},
   "outputs": [],
   "source": [
    "# ToDos for first step\n",
    "\n",
    "# write generator for iterative loading of images\n",
    "# add regularization stuff (batch_norm, dropout)\n",
    "# train and save model\n",
    "# deploy model and test"
   ]
  },
  {
   "cell_type": "markdown",
   "metadata": {},
   "source": [
    "#### Further Experimentations:\n",
    "\n",
    "\n",
    "- different processing strategies in lambda layer\n",
    "- Image augmentation (flipping)\n",
    "- cropping images (top and bottom)\n",
    "- use left and right images for recovery\n",
    "- modify model architecture\n",
    "- iterative, \"transfer\" learning approach (see https://s3-us-west-1.amazonaws.com/udacity-selfdrivingcar/Behavioral+Cloning+Cheatsheet+-+CarND.pdf)\n"
   ]
  },
  {
   "cell_type": "code",
   "execution_count": null,
   "metadata": {},
   "outputs": [],
   "source": []
  }
 ],
 "metadata": {
  "kernelspec": {
   "display_name": "Python 3",
   "language": "python",
   "name": "python3"
  },
  "language_info": {
   "codemirror_mode": {
    "name": "ipython",
    "version": 3
   },
   "file_extension": ".py",
   "mimetype": "text/x-python",
   "name": "python",
   "nbconvert_exporter": "python",
   "pygments_lexer": "ipython3",
   "version": "3.6.9"
  }
 },
 "nbformat": 4,
 "nbformat_minor": 2
}
